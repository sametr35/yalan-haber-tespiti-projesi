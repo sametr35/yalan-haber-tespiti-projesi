{
 "cells": [
  {
   "cell_type": "code",
   "execution_count": 26,
   "id": "446f66d4",
   "metadata": {},
   "outputs": [],
   "source": [
    "import pandas as pd\n",
    "import re\n",
    "import string"
   ]
  },
  {
   "cell_type": "code",
   "execution_count": 27,
   "id": "d6c1769d",
   "metadata": {},
   "outputs": [],
   "source": [
    "#2 adet csv dosyamız olduğu için yalan haberleri ayrı gerçek haberleri ayrı ayrı alıyoruz. verilerimiz arasında bulunmayan değer kolonu ile gerçek haberleri yalan haberleri 0 diye belritiyoruz.\n",
    "yalan = pd.read_csv(r\"C:\\Users\\Samet\\Desktop\\fake new\\Fake.csv\") \n",
    "yalan[\"deger\"] = 0 #değer isimli bir kolon oluşturarak yalan haberlere 0 değeri veriyoruz."
   ]
  },
  {
   "cell_type": "code",
   "execution_count": 28,
   "id": "12fa421a",
   "metadata": {},
   "outputs": [],
   "source": [
    "gerçek = pd.read_csv(r\"C:\\Users\\Samet\\Desktop\\fake new\\True.csv\") #gerçek haberleri okuyoruz.\n",
    "gerçek[\"deger\"] =1 #değer isimli bir kolonda gerçek haberlere 1 değeri veriyoruz."
   ]
  },
  {
   "cell_type": "code",
   "execution_count": 29,
   "id": "27ec0c2c",
   "metadata": {},
   "outputs": [],
   "source": [
    "data = pd.concat([yalan,gerçek],axis = 0) #ayrı değişkenlere atadığımız değişkenleri 0 ekseninde birleştiriyoruz."
   ]
  },
  {
   "cell_type": "code",
   "execution_count": 30,
   "id": "82b9c3cf",
   "metadata": {},
   "outputs": [
    {
     "data": {
      "text/plain": [
       "title      0\n",
       "text       0\n",
       "subject    0\n",
       "date       0\n",
       "deger      0\n",
       "dtype: int64"
      ]
     },
     "execution_count": 30,
     "metadata": {},
     "output_type": "execute_result"
    }
   ],
   "source": [
    "data.isna().sum() #artık toplu olarak tek değişkende bulunan verilerin içinde nan değer var mı diye kontrol ediyoruz."
   ]
  },
  {
   "cell_type": "code",
   "execution_count": 31,
   "id": "74edb6e1",
   "metadata": {},
   "outputs": [],
   "source": [
    "#önce yalan haberler sonra yalan haberler verileri sıra ile geldiği için tüm verileri karıştırıyoruz.\n",
    "data = data.sample(frac = 1) "
   ]
  },
  {
   "cell_type": "code",
   "execution_count": 32,
   "id": "4e39d9f0",
   "metadata": {},
   "outputs": [],
   "source": [
    "data = pd.DataFrame(data) #verilerimizi dataframe e çeviriyoruz."
   ]
  },
  {
   "cell_type": "code",
   "execution_count": 33,
   "id": "ef3aa04b",
   "metadata": {},
   "outputs": [
    {
     "data": {
      "text/plain": [
       "(44898, 5)"
      ]
     },
     "execution_count": 33,
     "metadata": {},
     "output_type": "execute_result"
    }
   ],
   "source": [
    "data.shape # verinin büyüklüğünü ekrana basıyoruz."
   ]
  },
  {
   "cell_type": "code",
   "execution_count": 16,
   "id": "ca042472",
   "metadata": {},
   "outputs": [],
   "source": [
    "#öncelikle text kolonundaki tüm değişkenleri küçük harfli yapıyoruz ardından bazı özel karakterleri boşluk olarak değiştiriyoruz.\n",
    "def wordopt(text):\n",
    "    text = text.lower()\n",
    "    text = re.sub('\\[.*?\\]', '', text)\n",
    "    text = re.sub(\"\\\\W\",\" \",text) \n",
    "    text = re.sub('https?://\\S+|www\\.\\S+', '', text)\n",
    "    text = re.sub('<.*?>+', '', text)\n",
    "    text = re.sub('[%s]' % re.escape(string.punctuation), '', text)\n",
    "    text = re.sub('\\n', '', text)\n",
    "    text = re.sub('\\w*\\d\\w*', '', text)    \n",
    "    return text"
   ]
  },
  {
   "cell_type": "code",
   "execution_count": 17,
   "id": "8103bc54",
   "metadata": {},
   "outputs": [],
   "source": [
    "data[\"text\"] = data[\"text\"].apply(wordopt) #text kolonundaki verileri bu işleme sokuyoruz."
   ]
  },
  {
   "cell_type": "code",
   "execution_count": 18,
   "id": "d4aca413",
   "metadata": {},
   "outputs": [],
   "source": [
    "x = data[\"text\"] #bağımsız değişkenimizi x isimli değişkene atıyoruz.\n",
    "y = data[\"deger\"] #bağımlı değişkenimizi y isimli değişkene atıyoruz."
   ]
  },
  {
   "cell_type": "code",
   "execution_count": 19,
   "id": "dc35bc49",
   "metadata": {},
   "outputs": [],
   "source": [
    "from sklearn.model_selection import train_test_split"
   ]
  },
  {
   "cell_type": "code",
   "execution_count": 20,
   "id": "1849630b",
   "metadata": {},
   "outputs": [],
   "source": [
    "x_train,x_test,y_train,y_test = train_test_split(x,y,test_size = 0.25) #verilerimzi %25 oranında train ve test olarak ayırıyoruz. "
   ]
  },
  {
   "cell_type": "code",
   "execution_count": 21,
   "id": "d64280e1",
   "metadata": {},
   "outputs": [],
   "source": [
    "from sklearn.feature_extraction.text import TfidfVectorizer\n",
    "#text verilerimizi modeli eğitebilmek için vektör haline getiriyoruz.\n",
    "vectorization = TfidfVectorizer()\n",
    "xv_train = vectorization.fit_transform(x_train)\n",
    "xv_test = vectorization.transform(x_test)"
   ]
  },
  {
   "cell_type": "code",
   "execution_count": 22,
   "id": "67e5f3aa",
   "metadata": {},
   "outputs": [
    {
     "data": {
      "text/plain": [
       "LogisticRegression()"
      ]
     },
     "execution_count": 22,
     "metadata": {},
     "output_type": "execute_result"
    }
   ],
   "source": [
    "from sklearn.linear_model import LogisticRegression\n",
    "#modeli eğitiyoruz.\n",
    "lr = LogisticRegression()\n",
    "lr.fit(xv_train,y_train)"
   ]
  },
  {
   "cell_type": "code",
   "execution_count": 23,
   "id": "88a5eb75",
   "metadata": {},
   "outputs": [],
   "source": [
    "predict = lr.predict(xv_test) #tahminleri alıyoruz."
   ]
  },
  {
   "cell_type": "code",
   "execution_count": 24,
   "id": "c2f46bfe",
   "metadata": {},
   "outputs": [],
   "source": [
    "from sklearn.metrics import confusion_matrix "
   ]
  },
  {
   "cell_type": "code",
   "execution_count": 25,
   "id": "b15c2bf9",
   "metadata": {},
   "outputs": [
    {
     "data": {
      "text/plain": [
       "array([[5777,   79],\n",
       "       [  71, 5298]], dtype=int64)"
      ]
     },
     "execution_count": 25,
     "metadata": {},
     "output_type": "execute_result"
    }
   ],
   "source": [
    "confusion_matrix(y_test,predict) #modelin başarı oranını test ediyoruz"
   ]
  },
  {
   "cell_type": "code",
   "execution_count": null,
   "id": "be1a60a2",
   "metadata": {},
   "outputs": [],
   "source": []
  }
 ],
 "metadata": {
  "kernelspec": {
   "display_name": "Python 3 (ipykernel)",
   "language": "python",
   "name": "python3"
  },
  "language_info": {
   "codemirror_mode": {
    "name": "ipython",
    "version": 3
   },
   "file_extension": ".py",
   "mimetype": "text/x-python",
   "name": "python",
   "nbconvert_exporter": "python",
   "pygments_lexer": "ipython3",
   "version": "3.8.12"
  }
 },
 "nbformat": 4,
 "nbformat_minor": 5
}
